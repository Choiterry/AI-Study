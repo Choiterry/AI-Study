{
 "cells": [
  {
   "cell_type": "code",
   "execution_count": 2,
   "metadata": {},
   "outputs": [
    {
     "name": "stdout",
     "output_type": "stream",
     "text": [
      "['cmtt10', 'DejaVu Sans Display', 'DejaVu Sans Mono', 'DejaVu Serif', 'STIXSizeTwoSym', 'DejaVu Sans', 'STIXGeneral', 'STIXNonUnicode', 'cmss10', 'DejaVu Sans', 'cmr10', 'STIXNonUnicode', 'DejaVu Sans', 'DejaVu Sans Mono', 'DejaVu Sans Mono', 'STIXSizeOneSym', 'DejaVu Serif', 'DejaVu Serif', 'STIXSizeThreeSym', 'STIXSizeFourSym', 'STIXSizeOneSym', 'STIXSizeFiveSym', 'STIXSizeFourSym', 'DejaVu Serif', 'DejaVu Sans', 'DejaVu Serif Display', 'STIXGeneral', 'cmsy10', 'STIXGeneral', 'STIXGeneral', 'STIXNonUnicode', 'cmmi10', 'cmb10', 'STIXSizeTwoSym', 'DejaVu Sans Mono', 'STIXSizeThreeSym', 'STIXNonUnicode', 'cmex10', 'Bookman Old Style', 'Bookshelf Symbol 7', 'Maiandra GD', 'Malgun Gothic', 'Bodoni MT', 'High Tower Text', 'Gill Sans MT', 'Perpetua', 'Calibri', 'Dubai', 'Constantia', 'Gill Sans Ultra Bold', 'HCR Dotum', 'Sitka Small', 'Bodoni MT', 'Freestyle Script', 'Constantia', 'Gabriola', 'Franklin Gothic Book', 'Leelawadee', 'Franklin Gothic Medium', 'Lucida Sans Typewriter', 'Palatino Linotype', 'Goudy Old Style', 'Agency FB', 'HCR Dotum', 'Symbol', 'Poor Richard', 'Californian FB', 'Microsoft New Tai Lue', 'HCR Dotum Ext', 'Lucida Sans', 'Bauhaus 93', 'Bell MT', 'Arial', 'Century Schoolbook', 'Dubai', 'Segoe UI', 'Harlow Solid Italic', 'Georgia', 'Tw Cen MT', 'Perpetua', 'HYGothic-Medium', 'Nirmala UI', 'Segoe UI Symbol', 'Gulim', 'Pyunji R', 'Comic Sans MS', 'Castellar', 'Yu Gothic', 'Comic Sans MS', 'Lucida Console', 'Eras Light ITC', 'HYSinMyeongJo-Medium', 'Cooper Black', 'Courier New', 'Mongolian Baiti', 'Tempus Sans ITC', 'Microsoft YaHei', 'Rockwell Condensed', 'Cambria', 'Microsoft Uighur', 'Juice ITC', 'Baskerville Old Face', 'Goudy Old Style', 'Malgun Gothic', 'Calibri', 'Gill Sans MT Ext Condensed Bold', 'Courier New', 'Consolas', 'Corbel', 'Century Schoolbook', 'New Gulim', 'Constantia', 'Engravers MT', 'Blackadder ITC', 'Curlz MT', 'Rockwell', 'Segoe UI', 'Arial', 'Bookman Old Style', 'Candara', 'Corbel', 'Ravie', 'Ami R', 'Corbel', 'Chiller', 'Bodoni MT', 'Elephant', 'Myanmar Text', 'Microsoft JhengHei', 'Lucida Sans Typewriter', 'Lucida Sans Typewriter', 'Vladimir Script', 'Batang', 'Bradley Hand ITC', 'Niagara Engraved', 'Lucida Handwriting', 'Gill Sans MT', 'Bodoni MT', 'Bodoni MT', 'Microsoft Yi Baiti', 'Yu Gothic', 'Goudy Stout', 'Papyrus', 'Broadway', 'Modern No. 20', 'Pristina', 'Gill Sans MT Condensed', 'Tw Cen MT', 'Bell MT', 'Bookman Old Style', 'Bell MT', 'Arial', 'Microsoft Tai Le', 'Leelawadee UI', 'Informal Roman', 'Goudy Old Style', 'HCR Batang', 'Calisto MT', 'Haan Wing2', 'Showcard Gothic', 'Leelawadee UI', 'Consolas', 'Bahnschrift', 'Sitka Small', 'Microsoft Himalaya', 'Ebrima', 'Microsoft PhagsPa', 'Franklin Gothic Heavy', 'HoloLens MDL2 Assets', 'Imprint MT Shadow', 'HYMyeongJo-Extra', 'Segoe UI', 'MT Extra', 'Segoe UI Emoji', 'Century Schoolbook', 'Tw Cen MT Condensed Extra Bold', 'Segoe Script', 'Century Gothic', 'Segoe Print', 'Bodoni MT', 'French Script MT', 'Segoe UI', 'HYGungSo-Bold', 'Calisto MT', 'Rockwell Condensed', 'Georgia', 'Haettenschweiler', 'Elephant', 'Times New Roman', 'Wingdings 2', 'Californian FB', 'Century Gothic', 'Edwardian Script ITC', 'Trebuchet MS', 'Bodoni MT', 'Lucida Bright', 'Lucida Sans Unicode', 'Webdings', 'Microsoft Uighur', 'Franklin Gothic Medium Cond', 'Rockwell Extra Bold', 'Arial', 'Viner Hand ITC', 'Wingdings 3', 'Perpetua', 'Yu Gothic', 'Hancom Gothic', 'Corbel', 'Arial', 'Marlett', 'Kunstler Script', 'Microsoft Tai Le', 'Magneto', 'HyhwpEQ', 'Century Schoolbook', 'HYHeadLine-Medium', 'Segoe MDL2 Assets', 'MS Reference Sans Serif', 'Times New Roman', 'Microsoft YaHei', 'Bodoni MT', 'Book Antiqua', 'Malgun Gothic', 'Tw Cen MT', 'Lucida Fax', 'Microsoft PhagsPa', 'Jokerman', 'Palatino Linotype', 'Script MT Bold', 'Georgia', 'HancomEQN', 'Berlin Sans FB Demi', 'Corbel', 'Lucida Sans', 'HYGothic-Extra', 'Century Gothic', 'Calisto MT', 'Trebuchet MS', 'Courier New', 'Sitka Small', 'Tw Cen MT', 'Lucida Fax', 'HYPost-Light', 'Microsoft JhengHei', 'Arial', 'Gadugi', 'HCR Batang ExtB', 'Playbill', 'Bodoni MT', 'Nirmala UI', 'Bodoni MT', 'Georgia', 'Segoe UI', 'Sylfaen', 'Segoe UI', 'Stencil', 'SimSun-ExtB', 'Colonna MT', 'Dubai', 'Javanese Text', 'Algerian', 'Microsoft Sans Serif', 'Onyx', 'MS Outlook', 'Times New Roman', 'MS Reference Specialty', 'Gadugi', 'Candara', 'Segoe UI', 'Courier New', 'Copperplate Gothic Light', 'Segoe UI', 'Footlight MT Light', 'Lucida Sans Typewriter', 'Tahoma', 'Segoe UI', 'Perpetua Titling MT', 'Dubai', 'Gill Sans MT', 'Cambria', 'Ink Free', 'Comic Sans MS', 'Leelawadee', 'Lucida Calligraphy', 'Constantia', 'Franklin Gothic Book', 'Berlin Sans FB', 'MoeumT R', 'Magic R', 'Wingdings', 'Niagara Solid', 'Eras Bold ITC', 'Gill Sans MT', 'Trebuchet MS', 'NewJumja', 'Arial Rounded MT Bold', 'Yet R', 'Comic Sans MS', 'OCR A Extended', 'Segoe UI', 'Arial', 'Bookman Old Style', 'Cambria', 'Microsoft JhengHei', 'Trebuchet MS', 'Myanmar Text', 'Calisto MT', 'HYPost-Medium', 'Snap ITC', 'Century Gothic', 'Garamond', 'HYShortSamul-Medium', 'Microsoft New Tai Lue', 'Yu Gothic', 'Franklin Gothic Heavy', 'Kristen ITC', 'Verdana', 'Franklin Gothic Demi', 'Bernard MT Condensed', 'Leelawadee UI', 'Monotype Corsiva', 'Lucida Sans', 'Centaur', 'Segoe Script', 'Franklin Gothic Demi', 'Lucida Fax', 'Garamond', 'Brush Script MT', 'Candara', 'HCR Batang', 'Wide Latin', 'Segoe Print', 'Franklin Gothic Demi Cond', 'Calibri', 'Corbel', 'Californian FB', 'Ebrima', 'Palatino Linotype', 'Felix Titling', 'Palatino Linotype', 'Vivaldi', 'Arial', 'Agency FB', 'Rockwell', 'HCR Batang ExtB', 'Times New Roman', 'Perpetua', 'MV Boli', 'Headline R', 'High Tower Text', 'Verdana', 'Lucida Bright', 'Parchment', 'Franklin Gothic Medium', 'Lucida Bright', 'Calibri', 'Sitka Small', 'Britannic Bold', 'Tw Cen MT Condensed', 'SimSun', 'Book Antiqua', 'Candara', 'Harrington', 'Eras Demi ITC', 'Consolas', 'Matura MT Script Capitals', 'Copperplate Gothic Bold', 'Impact', 'Candara', 'Gill Sans Ultra Bold Condensed', 'Perpetua Titling MT', 'Mistral', 'Lucida Sans', 'Forte', 'Palace Script MT', 'Gloucester MT Extra Condensed', 'MingLiU-ExtB', 'Bodoni MT', 'Calibri', 'Nirmala UI', 'Rockwell', 'Candara', 'Segoe UI Historic', 'Verdana', 'Lucida Bright', 'Rockwell', 'Berlin Sans FB', 'Segoe UI', 'Century', 'MS Gothic', 'Calibri', 'Consolas', 'Tahoma', 'Arial', 'Garamond', 'Book Antiqua', 'Segoe UI', 'HYPMokGak-Bold', 'HCR Batang Ext', 'Eras Medium ITC', 'Lucida Fax', 'Gigi', 'Cambria', 'Microsoft YaHei', 'Old English Text MT', 'HYGraphic-Medium', 'Book Antiqua', 'Hancom Gothic', 'Tw Cen MT Condensed', 'Verdana', 'Rage Italic']\n"
     ]
    }
   ],
   "source": [
    "import matplotlib.pyplot as plt\n",
    "\n",
    "# 가능한 font list 확인\n",
    "import matplotlib.font_manager as fm\n",
    "f = [f.name for f in fm.fontManager.ttflist]\n",
    "print(f)\n",
    "\n",
    "# 확인 이후\n",
    "plt.rc('font', family='Malgun Gothic')"
   ]
  },
  {
   "cell_type": "code",
   "execution_count": 8,
   "metadata": {},
   "outputs": [
    {
     "name": "stdout",
     "output_type": "stream",
     "text": [
      "Cross-Validation Mean Squared Error (MSE): 0.0029497834709089413\n",
      "Train Mean Squared Error (MSE): 0.0002127139018180284\n",
      "Test Mean Squared Error (MSE): 0.00048303403181788196\n",
      "의료시설 수: 0.0012485364449811164\n",
      "대중교통만족도: 0.001318508426817216\n",
      "문화시설 수: 0.0008085180816246229\n",
      "경제력: 0.0010471897641676489\n",
      "주택가격 안정화지수: 0.0016442249872617321\n",
      "1인당 녹지 면적: 0.0006217777657729588\n",
      "전체녹지: 0.0008257868547769345\n",
      "상업시설 수: 0.0012502132210439629\n",
      "주거환경만족도: 0.9912352444535538\n"
     ]
    },
    {
     "data": {
      "image/png": "[encoded data removed]",
      "text/plain": [
       "<Figure size 432x288 with 1 Axes>"
      ]
     },
     "metadata": {
      "needs_background": "light"
     },
     "output_type": "display_data"
    }
   ],
   "source": [
    "from sklearn.model_selection import cross_val_score\n",
    "from sklearn.preprocessing import StandardScaler\n",
    "from sklearn.pipeline import make_pipeline\n",
    "from sklearn.ensemble import RandomForestRegressor\n",
    "from sklearn.metrics import mean_squared_error\n",
    "from sklearn.model_selection import train_test_split\n",
    "import pandas as pd\n",
    "import numpy as np\n",
    "import matplotlib.pyplot as plt\n",
    "\n",
    "df = pd.read_excel(\"life_data.xlsx\")\n",
    "\n",
    "label_name = '주거환경만족도'\n",
    "cols = [ '의료시설 수', '대중교통만족도', '문화시설 수', '경제력','주택가격 안정화지수', '1인당 녹지 면적', '전체녹지', '상업시설 수', '주거환경만족도']\n",
    "\n",
    "x = df[cols]\n",
    "y = df[label_name]\n",
    "x_train, x_test, y_train, y_test = train_test_split(x, y, test_size=0.4, random_state=42)\n",
    "\n",
    "# 3. 모델 생성과 학습\n",
    "rf_model = make_pipeline(StandardScaler(), RandomForestRegressor(n_estimators=1000, random_state=42))\n",
    "rf_model.fit(x_train, y_train)\n",
    "\n",
    "# 4. 교차 검증 및 예측 평가\n",
    "cv_scores = cross_val_score(rf_model, x_train, y_train, cv=5, scoring='neg_mean_squared_error')\n",
    "cv_mse = -np.mean(cv_scores)\n",
    "print(\"Cross-Validation Mean Squared Error (MSE):\", cv_mse)\n",
    "\n",
    "# 5. 과적합 확인\n",
    "y_train_pred = rf_model.predict(x_train)\n",
    "train_mse = mean_squared_error(y_train, y_train_pred)\n",
    "print(\"Train Mean Squared Error (MSE):\", train_mse)\n",
    "\n",
    "y_test_pred = rf_model.predict(x_test)\n",
    "test_mse = mean_squared_error(y_test, y_test_pred)\n",
    "print(\"Test Mean Squared Error (MSE):\", test_mse)\n",
    "\n",
    "importance = rf_model.named_steps['randomforestregressor'].feature_importances_\n",
    "\n",
    "# 중요도 출력\n",
    "for col, importance in zip(cols, importance):\n",
    "    print(f\"{col}: {importance}\")\n",
    "\n",
    "# 예측 결과 시각화\n",
    "plt.scatter(y_test, y_test_pred)\n",
    "plt.xlabel(\"실제값\")\n",
    "plt.ylabel(\"예측값\")\n",
    "plt.title(\"Random Forest Regression 예측 결과\")\n",
    "plt.show()\n"
   ]
  }
 ],
 "metadata": {
  "kernelspec": {
   "display_name": "Python 3",
   "language": "python",
   "name": "python3"
  },
  "language_info": {
   "codemirror_mode": {
    "name": "ipython",
    "version": 3
   },
   "file_extension": ".py",
   "mimetype": "text/x-python",
   "name": "python",
   "nbconvert_exporter": "python",
   "pygments_lexer": "ipython3",
   "version": "3.9.12"
  },
  "orig_nbformat": 4
 },
 "nbformat": 4,
 "nbformat_minor": 2
}
