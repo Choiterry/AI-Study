{
 "cells": [
  {
   "cell_type": "code",
   "execution_count": 5,
   "metadata": {},
   "outputs": [
    {
     "data": {
      "text/plain": [
       "Index(['구', '전체녹지', '완충녹지', '경관녹지', '연결녹지', '1인당주상공', '1인당녹지', '주거활동 만족도',\n",
       "       '전체공원', '도시자연공원', '소공원', '어린이공원', '근린공원', '역사공원', '문화공원', '수변공원',\n",
       "       '묘지공원', '체육공원', '조례가 정하는 공원', '녹지만족도'],\n",
       "      dtype='object')"
      ]
     },
     "execution_count": 5,
     "metadata": {},
     "output_type": "execute_result"
    }
   ],
   "source": [
    "import pandas as pd\n",
    "import numpy as np\n",
    "\n",
    "df = pd.read_excel(\"culture_data.xlsx\")\n",
    "df.columns"
   ]
  },
  {
   "cell_type": "code",
   "execution_count": 7,
   "metadata": {},
   "outputs": [
    {
     "ename": "KeyError",
     "evalue": "'주거활동 만족도'",
     "output_type": "error",
     "traceback": [
      "\u001b[1;31m---------------------------------------------------------------------------\u001b[0m",
      "\u001b[1;31mKeyError\u001b[0m                                  Traceback (most recent call last)",
      "File \u001b[1;32mc:\\ProgramData\\Anaconda3\\lib\\site-packages\\pandas\\core\\indexes\\base.py:3621\u001b[0m, in \u001b[0;36mIndex.get_loc\u001b[1;34m(self, key, method, tolerance)\u001b[0m\n\u001b[0;32m   3620\u001b[0m \u001b[39mtry\u001b[39;00m:\n\u001b[1;32m-> 3621\u001b[0m     \u001b[39mreturn\u001b[39;00m \u001b[39mself\u001b[39;49m\u001b[39m.\u001b[39;49m_engine\u001b[39m.\u001b[39;49mget_loc(casted_key)\n\u001b[0;32m   3622\u001b[0m \u001b[39mexcept\u001b[39;00m \u001b[39mKeyError\u001b[39;00m \u001b[39mas\u001b[39;00m err:\n",
      "File \u001b[1;32mc:\\ProgramData\\Anaconda3\\lib\\site-packages\\pandas\\_libs\\index.pyx:136\u001b[0m, in \u001b[0;36mpandas._libs.index.IndexEngine.get_loc\u001b[1;34m()\u001b[0m\n",
      "File \u001b[1;32mc:\\ProgramData\\Anaconda3\\lib\\site-packages\\pandas\\_libs\\index.pyx:163\u001b[0m, in \u001b[0;36mpandas._libs.index.IndexEngine.get_loc\u001b[1;34m()\u001b[0m\n",
      "File \u001b[1;32mpandas\\_libs\\hashtable_class_helper.pxi:5198\u001b[0m, in \u001b[0;36mpandas._libs.hashtable.PyObjectHashTable.get_item\u001b[1;34m()\u001b[0m\n",
      "File \u001b[1;32mpandas\\_libs\\hashtable_class_helper.pxi:5206\u001b[0m, in \u001b[0;36mpandas._libs.hashtable.PyObjectHashTable.get_item\u001b[1;34m()\u001b[0m\n",
      "\u001b[1;31mKeyError\u001b[0m: '주거활동 만족도'",
      "\nThe above exception was the direct cause of the following exception:\n",
      "\u001b[1;31mKeyError\u001b[0m                                  Traceback (most recent call last)",
      "\u001b[1;32mc:\\Users\\hyok1\\.vscode\\exam\\linearregression.ipynb Cell 2\u001b[0m in \u001b[0;36m<cell line: 5>\u001b[1;34m()\u001b[0m\n\u001b[0;32m      <a href='vscode-notebook-cell:/c%3A/Users/hyok1/.vscode/exam/linearregression.ipynb#W1sZmlsZQ%3D%3D?line=1'>2</a>\u001b[0m label_name \u001b[39m=\u001b[39m \u001b[39m'\u001b[39m\u001b[39m주거활동 만족도\u001b[39m\u001b[39m'\u001b[39m\n\u001b[0;32m      <a href='vscode-notebook-cell:/c%3A/Users/hyok1/.vscode/exam/linearregression.ipynb#W1sZmlsZQ%3D%3D?line=2'>3</a>\u001b[0m cols \u001b[39m=\u001b[39m [\u001b[39m'\u001b[39m\u001b[39m전체녹지\u001b[39m\u001b[39m'\u001b[39m,\u001b[39m'\u001b[39m\u001b[39m녹지만족도\u001b[39m\u001b[39m'\u001b[39m,\u001b[39m'\u001b[39m\u001b[39m완충녹지\u001b[39m\u001b[39m'\u001b[39m, \u001b[39m'\u001b[39m\u001b[39m경관녹지\u001b[39m\u001b[39m'\u001b[39m, \u001b[39m'\u001b[39m\u001b[39m연결녹지\u001b[39m\u001b[39m'\u001b[39m, \u001b[39m'\u001b[39m\u001b[39m1인당주상공\u001b[39m\u001b[39m'\u001b[39m, \u001b[39m'\u001b[39m\u001b[39m1인당녹지\u001b[39m\u001b[39m'\u001b[39m,\u001b[39m'\u001b[39m\u001b[39m전체공원\u001b[39m\u001b[39m'\u001b[39m, \u001b[39m'\u001b[39m\u001b[39m도시자연공원\u001b[39m\u001b[39m'\u001b[39m, \u001b[39m'\u001b[39m\u001b[39m소공원\u001b[39m\u001b[39m'\u001b[39m, \u001b[39m'\u001b[39m\u001b[39m어린이공원\u001b[39m\u001b[39m'\u001b[39m, \u001b[39m'\u001b[39m\u001b[39m근린공원\u001b[39m\u001b[39m'\u001b[39m, \u001b[39m'\u001b[39m\u001b[39m역사공원\u001b[39m\u001b[39m'\u001b[39m, \u001b[39m'\u001b[39m\u001b[39m문화공원\u001b[39m\u001b[39m'\u001b[39m, \u001b[39m'\u001b[39m\u001b[39m수변공원\u001b[39m\u001b[39m'\u001b[39m, \u001b[39m'\u001b[39m\u001b[39m묘지공원\u001b[39m\u001b[39m'\u001b[39m, \u001b[39m'\u001b[39m\u001b[39m체육공원\u001b[39m\u001b[39m'\u001b[39m, \u001b[39m'\u001b[39m\u001b[39m조례가 정하는 공원\u001b[39m\u001b[39m'\u001b[39m]\n\u001b[1;32m----> <a href='vscode-notebook-cell:/c%3A/Users/hyok1/.vscode/exam/linearregression.ipynb#W1sZmlsZQ%3D%3D?line=4'>5</a>\u001b[0m df_lablename \u001b[39m=\u001b[39m df[\u001b[39m2\u001b[39;49m:\u001b[39m211\u001b[39;49m][label_name]\n\u001b[0;32m      <a href='vscode-notebook-cell:/c%3A/Users/hyok1/.vscode/exam/linearregression.ipynb#W1sZmlsZQ%3D%3D?line=5'>6</a>\u001b[0m df_cols \u001b[39m=\u001b[39m df[\u001b[39m2\u001b[39m:\u001b[39m211\u001b[39m][cols]\n\u001b[0;32m      <a href='vscode-notebook-cell:/c%3A/Users/hyok1/.vscode/exam/linearregression.ipynb#W1sZmlsZQ%3D%3D?line=7'>8</a>\u001b[0m df_corr \u001b[39m=\u001b[39m df[cols \u001b[39m+\u001b[39m [label_name]]\u001b[39m.\u001b[39mcorr()\n",
      "File \u001b[1;32mc:\\ProgramData\\Anaconda3\\lib\\site-packages\\pandas\\core\\frame.py:3505\u001b[0m, in \u001b[0;36mDataFrame.__getitem__\u001b[1;34m(self, key)\u001b[0m\n\u001b[0;32m   3503\u001b[0m \u001b[39mif\u001b[39;00m \u001b[39mself\u001b[39m\u001b[39m.\u001b[39mcolumns\u001b[39m.\u001b[39mnlevels \u001b[39m>\u001b[39m \u001b[39m1\u001b[39m:\n\u001b[0;32m   3504\u001b[0m     \u001b[39mreturn\u001b[39;00m \u001b[39mself\u001b[39m\u001b[39m.\u001b[39m_getitem_multilevel(key)\n\u001b[1;32m-> 3505\u001b[0m indexer \u001b[39m=\u001b[39m \u001b[39mself\u001b[39;49m\u001b[39m.\u001b[39;49mcolumns\u001b[39m.\u001b[39;49mget_loc(key)\n\u001b[0;32m   3506\u001b[0m \u001b[39mif\u001b[39;00m is_integer(indexer):\n\u001b[0;32m   3507\u001b[0m     indexer \u001b[39m=\u001b[39m [indexer]\n",
      "File \u001b[1;32mc:\\ProgramData\\Anaconda3\\lib\\site-packages\\pandas\\core\\indexes\\base.py:3623\u001b[0m, in \u001b[0;36mIndex.get_loc\u001b[1;34m(self, key, method, tolerance)\u001b[0m\n\u001b[0;32m   3621\u001b[0m     \u001b[39mreturn\u001b[39;00m \u001b[39mself\u001b[39m\u001b[39m.\u001b[39m_engine\u001b[39m.\u001b[39mget_loc(casted_key)\n\u001b[0;32m   3622\u001b[0m \u001b[39mexcept\u001b[39;00m \u001b[39mKeyError\u001b[39;00m \u001b[39mas\u001b[39;00m err:\n\u001b[1;32m-> 3623\u001b[0m     \u001b[39mraise\u001b[39;00m \u001b[39mKeyError\u001b[39;00m(key) \u001b[39mfrom\u001b[39;00m \u001b[39merr\u001b[39;00m\n\u001b[0;32m   3624\u001b[0m \u001b[39mexcept\u001b[39;00m \u001b[39mTypeError\u001b[39;00m:\n\u001b[0;32m   3625\u001b[0m     \u001b[39m# If we have a listlike key, _check_indexing_error will raise\u001b[39;00m\n\u001b[0;32m   3626\u001b[0m     \u001b[39m#  InvalidIndexError. Otherwise we fall through and re-raise\u001b[39;00m\n\u001b[0;32m   3627\u001b[0m     \u001b[39m#  the TypeError.\u001b[39;00m\n\u001b[0;32m   3628\u001b[0m     \u001b[39mself\u001b[39m\u001b[39m.\u001b[39m_check_indexing_error(key)\n",
      "\u001b[1;31mKeyError\u001b[0m: '주거활동 만족도'"
     ]
    }
   ],
   "source": [
    "\n",
    "df = pd.read_excel(\"life_data.xlsx\")\n",
    "label_name = '주거활동 만족도'\n",
    "cols = ['전체녹지','녹지만족도','완충녹지', '경관녹지', '연결녹지', '1인당주상공', '1인당녹지','전체공원', '도시자연공원', '소공원', '어린이공원', '근린공원', '역사공원', '문화공원', '수변공원', '묘지공원', '체육공원', '조례가 정하는 공원']\n",
    "\n",
    "df_lablename = df[2:211][label_name]\n",
    "df_cols = df[2:211][cols]\n",
    "\n",
    "df_corr = df[cols + [label_name]].corr()\n",
    "cor_order = df_corr[label_name].abs().sort_values(ascending=False)\n",
    "print(cor_order)\n",
    "\n"
   ]
  },
  {
   "cell_type": "code",
   "execution_count": 8,
   "metadata": {},
   "outputs": [
    {
     "name": "stdout",
     "output_type": "stream",
     "text": [
      "['cmtt10', 'DejaVu Sans Display', 'DejaVu Sans Mono', 'DejaVu Serif', 'STIXSizeTwoSym', 'DejaVu Sans', 'STIXGeneral', 'STIXNonUnicode', 'cmss10', 'DejaVu Sans', 'cmr10', 'STIXNonUnicode', 'DejaVu Sans', 'DejaVu Sans Mono', 'DejaVu Sans Mono', 'STIXSizeOneSym', 'DejaVu Serif', 'DejaVu Serif', 'STIXSizeThreeSym', 'STIXSizeFourSym', 'STIXSizeOneSym', 'STIXSizeFiveSym', 'STIXSizeFourSym', 'DejaVu Serif', 'DejaVu Sans', 'DejaVu Serif Display', 'STIXGeneral', 'cmsy10', 'STIXGeneral', 'STIXGeneral', 'STIXNonUnicode', 'cmmi10', 'cmb10', 'STIXSizeTwoSym', 'DejaVu Sans Mono', 'STIXSizeThreeSym', 'STIXNonUnicode', 'cmex10', 'Bookman Old Style', 'Bookshelf Symbol 7', 'Maiandra GD', 'Malgun Gothic', 'Bodoni MT', 'High Tower Text', 'Gill Sans MT', 'Perpetua', 'Calibri', 'Dubai', 'Constantia', 'Gill Sans Ultra Bold', 'HCR Dotum', 'Sitka Small', 'Bodoni MT', 'Freestyle Script', 'Constantia', 'Gabriola', 'Franklin Gothic Book', 'Leelawadee', 'Franklin Gothic Medium', 'Lucida Sans Typewriter', 'Palatino Linotype', 'Goudy Old Style', 'Agency FB', 'HCR Dotum', 'Symbol', 'Poor Richard', 'Californian FB', 'Microsoft New Tai Lue', 'HCR Dotum Ext', 'Lucida Sans', 'Bauhaus 93', 'Bell MT', 'Arial', 'Century Schoolbook', 'Dubai', 'Segoe UI', 'Harlow Solid Italic', 'Georgia', 'Tw Cen MT', 'Perpetua', 'HYGothic-Medium', 'Nirmala UI', 'Segoe UI Symbol', 'Gulim', 'Pyunji R', 'Comic Sans MS', 'Castellar', 'Yu Gothic', 'Comic Sans MS', 'Lucida Console', 'Eras Light ITC', 'HYSinMyeongJo-Medium', 'Cooper Black', 'Courier New', 'Mongolian Baiti', 'Tempus Sans ITC', 'Microsoft YaHei', 'Rockwell Condensed', 'Cambria', 'Microsoft Uighur', 'Juice ITC', 'Baskerville Old Face', 'Goudy Old Style', 'Malgun Gothic', 'Calibri', 'Gill Sans MT Ext Condensed Bold', 'Courier New', 'Consolas', 'Corbel', 'Century Schoolbook', 'New Gulim', 'Constantia', 'Engravers MT', 'Blackadder ITC', 'Curlz MT', 'Rockwell', 'Segoe UI', 'Arial', 'Bookman Old Style', 'Candara', 'Corbel', 'Ravie', 'Ami R', 'Corbel', 'Chiller', 'Bodoni MT', 'Elephant', 'Myanmar Text', 'Microsoft JhengHei', 'Lucida Sans Typewriter', 'Lucida Sans Typewriter', 'Vladimir Script', 'Batang', 'Bradley Hand ITC', 'Niagara Engraved', 'Lucida Handwriting', 'Gill Sans MT', 'Bodoni MT', 'Bodoni MT', 'Microsoft Yi Baiti', 'Yu Gothic', 'Goudy Stout', 'Papyrus', 'Broadway', 'Modern No. 20', 'Pristina', 'Gill Sans MT Condensed', 'Tw Cen MT', 'Bell MT', 'Bookman Old Style', 'Bell MT', 'Arial', 'Microsoft Tai Le', 'Leelawadee UI', 'Informal Roman', 'Goudy Old Style', 'HCR Batang', 'Calisto MT', 'Haan Wing2', 'Showcard Gothic', 'Leelawadee UI', 'Consolas', 'Bahnschrift', 'Sitka Small', 'Microsoft Himalaya', 'Ebrima', 'Microsoft PhagsPa', 'Franklin Gothic Heavy', 'HoloLens MDL2 Assets', 'Imprint MT Shadow', 'HYMyeongJo-Extra', 'Segoe UI', 'MT Extra', 'Segoe UI Emoji', 'Century Schoolbook', 'Tw Cen MT Condensed Extra Bold', 'Segoe Script', 'Century Gothic', 'Segoe Print', 'Bodoni MT', 'French Script MT', 'Segoe UI', 'HYGungSo-Bold', 'Calisto MT', 'Rockwell Condensed', 'Georgia', 'Haettenschweiler', 'Elephant', 'Times New Roman', 'Wingdings 2', 'Californian FB', 'Century Gothic', 'Edwardian Script ITC', 'Trebuchet MS', 'Bodoni MT', 'Lucida Bright', 'Lucida Sans Unicode', 'Webdings', 'Microsoft Uighur', 'Franklin Gothic Medium Cond', 'Rockwell Extra Bold', 'Arial', 'Viner Hand ITC', 'Wingdings 3', 'Perpetua', 'Yu Gothic', 'Hancom Gothic', 'Corbel', 'Arial', 'Marlett', 'Kunstler Script', 'Microsoft Tai Le', 'Magneto', 'HyhwpEQ', 'Century Schoolbook', 'HYHeadLine-Medium', 'Segoe MDL2 Assets', 'MS Reference Sans Serif', 'Times New Roman', 'Microsoft YaHei', 'Bodoni MT', 'Book Antiqua', 'Malgun Gothic', 'Tw Cen MT', 'Lucida Fax', 'Microsoft PhagsPa', 'Jokerman', 'Palatino Linotype', 'Script MT Bold', 'Georgia', 'HancomEQN', 'Berlin Sans FB Demi', 'Corbel', 'Lucida Sans', 'HYGothic-Extra', 'Century Gothic', 'Calisto MT', 'Trebuchet MS', 'Courier New', 'Sitka Small', 'Tw Cen MT', 'Lucida Fax', 'HYPost-Light', 'Microsoft JhengHei', 'Arial', 'Gadugi', 'HCR Batang ExtB', 'Playbill', 'Bodoni MT', 'Nirmala UI', 'Bodoni MT', 'Georgia', 'Segoe UI', 'Sylfaen', 'Segoe UI', 'Stencil', 'SimSun-ExtB', 'Colonna MT', 'Dubai', 'Javanese Text', 'Algerian', 'Microsoft Sans Serif', 'Onyx', 'MS Outlook', 'Times New Roman', 'MS Reference Specialty', 'Gadugi', 'Candara', 'Segoe UI', 'Courier New', 'Copperplate Gothic Light', 'Segoe UI', 'Footlight MT Light', 'Lucida Sans Typewriter', 'Tahoma', 'Segoe UI', 'Perpetua Titling MT', 'Dubai', 'Gill Sans MT', 'Cambria', 'Ink Free', 'Comic Sans MS', 'Leelawadee', 'Lucida Calligraphy', 'Constantia', 'Franklin Gothic Book', 'Berlin Sans FB', 'MoeumT R', 'Magic R', 'Wingdings', 'Niagara Solid', 'Eras Bold ITC', 'Gill Sans MT', 'Trebuchet MS', 'NewJumja', 'Arial Rounded MT Bold', 'Yet R', 'Comic Sans MS', 'OCR A Extended', 'Segoe UI', 'Arial', 'Bookman Old Style', 'Cambria', 'Microsoft JhengHei', 'Trebuchet MS', 'Myanmar Text', 'Calisto MT', 'HYPost-Medium', 'Snap ITC', 'Century Gothic', 'Garamond', 'HYShortSamul-Medium', 'Microsoft New Tai Lue', 'Yu Gothic', 'Franklin Gothic Heavy', 'Kristen ITC', 'Verdana', 'Franklin Gothic Demi', 'Bernard MT Condensed', 'Leelawadee UI', 'Monotype Corsiva', 'Lucida Sans', 'Centaur', 'Segoe Script', 'Franklin Gothic Demi', 'Lucida Fax', 'Garamond', 'Brush Script MT', 'Candara', 'HCR Batang', 'Wide Latin', 'Segoe Print', 'Franklin Gothic Demi Cond', 'Calibri', 'Corbel', 'Californian FB', 'Ebrima', 'Palatino Linotype', 'Felix Titling', 'Palatino Linotype', 'Vivaldi', 'Arial', 'Agency FB', 'Rockwell', 'HCR Batang ExtB', 'Times New Roman', 'Perpetua', 'MV Boli', 'Headline R', 'High Tower Text', 'Verdana', 'Lucida Bright', 'Parchment', 'Franklin Gothic Medium', 'Lucida Bright', 'Calibri', 'Sitka Small', 'Britannic Bold', 'Tw Cen MT Condensed', 'SimSun', 'Book Antiqua', 'Candara', 'Harrington', 'Eras Demi ITC', 'Consolas', 'Matura MT Script Capitals', 'Copperplate Gothic Bold', 'Impact', 'Candara', 'Gill Sans Ultra Bold Condensed', 'Perpetua Titling MT', 'Mistral', 'Lucida Sans', 'Forte', 'Palace Script MT', 'Gloucester MT Extra Condensed', 'MingLiU-ExtB', 'Bodoni MT', 'Calibri', 'Nirmala UI', 'Rockwell', 'Candara', 'Segoe UI Historic', 'Verdana', 'Lucida Bright', 'Rockwell', 'Berlin Sans FB', 'Segoe UI', 'Century', 'MS Gothic', 'Calibri', 'Consolas', 'Tahoma', 'Arial', 'Garamond', 'Book Antiqua', 'Segoe UI', 'HYPMokGak-Bold', 'HCR Batang Ext', 'Eras Medium ITC', 'Lucida Fax', 'Gigi', 'Cambria', 'Microsoft YaHei', 'Old English Text MT', 'HYGraphic-Medium', 'Book Antiqua', 'Hancom Gothic', 'Tw Cen MT Condensed', 'Verdana', 'Rage Italic']\n"
     ]
    }
   ],
   "source": [
    "import matplotlib.pyplot as plt\n",
    "\n",
    "# 가능한 font list 확인\n",
    "import matplotlib.font_manager as fm\n",
    "f = [f.name for f in fm.fontManager.ttflist]\n",
    "print(f)\n",
    "\n",
    "# 확인 이후\n",
    "plt.rc('font', family='Malgun Gothic')"
   ]
  },
  {
   "cell_type": "code",
   "execution_count": 9,
   "metadata": {},
   "outputs": [
    {
     "ename": "KeyError",
     "evalue": "\"None of [Index(['녹지만족도', '수변공원', '전체녹지', '경관녹지', '도시자연공원', '문화공원', '근린공원', '완충녹지'], dtype='object')] are in the [columns]\"",
     "output_type": "error",
     "traceback": [
      "\u001b[1;31m---------------------------------------------------------------------------\u001b[0m",
      "\u001b[1;31mKeyError\u001b[0m                                  Traceback (most recent call last)",
      "\u001b[1;32mc:\\Users\\hyok1\\.vscode\\exam\\linearregression.ipynb Cell 4\u001b[0m in \u001b[0;36m<cell line: 6>\u001b[1;34m()\u001b[0m\n\u001b[0;32m      <a href='vscode-notebook-cell:/c%3A/Users/hyok1/.vscode/exam/linearregression.ipynb#W3sZmlsZQ%3D%3D?line=2'>3</a>\u001b[0m \u001b[39mfrom\u001b[39;00m \u001b[39msklearn\u001b[39;00m\u001b[39m.\u001b[39;00m\u001b[39mlinear_model\u001b[39;00m \u001b[39mimport\u001b[39;00m LinearRegression\n\u001b[0;32m      <a href='vscode-notebook-cell:/c%3A/Users/hyok1/.vscode/exam/linearregression.ipynb#W3sZmlsZQ%3D%3D?line=4'>5</a>\u001b[0m names \u001b[39m=\u001b[39m [\u001b[39m'\u001b[39m\u001b[39m녹지만족도\u001b[39m\u001b[39m'\u001b[39m,\u001b[39m'\u001b[39m\u001b[39m수변공원\u001b[39m\u001b[39m'\u001b[39m,\u001b[39m'\u001b[39m\u001b[39m전체녹지\u001b[39m\u001b[39m'\u001b[39m,\u001b[39m'\u001b[39m\u001b[39m경관녹지\u001b[39m\u001b[39m'\u001b[39m,\u001b[39m'\u001b[39m\u001b[39m도시자연공원\u001b[39m\u001b[39m'\u001b[39m,\u001b[39m'\u001b[39m\u001b[39m문화공원\u001b[39m\u001b[39m'\u001b[39m,\u001b[39m'\u001b[39m\u001b[39m근린공원\u001b[39m\u001b[39m'\u001b[39m,\u001b[39m'\u001b[39m\u001b[39m완충녹지\u001b[39m\u001b[39m'\u001b[39m]\n\u001b[1;32m----> <a href='vscode-notebook-cell:/c%3A/Users/hyok1/.vscode/exam/linearregression.ipynb#W3sZmlsZQ%3D%3D?line=5'>6</a>\u001b[0m diabetes_df_l \u001b[39m=\u001b[39m df\u001b[39m.\u001b[39;49mloc[:, names]\n\u001b[0;32m      <a href='vscode-notebook-cell:/c%3A/Users/hyok1/.vscode/exam/linearregression.ipynb#W3sZmlsZQ%3D%3D?line=7'>8</a>\u001b[0m plt\u001b[39m.\u001b[39mfigure(figsize\u001b[39m=\u001b[39m(\u001b[39m16\u001b[39m, \u001b[39m6\u001b[39m))\n\u001b[0;32m      <a href='vscode-notebook-cell:/c%3A/Users/hyok1/.vscode/exam/linearregression.ipynb#W3sZmlsZQ%3D%3D?line=8'>9</a>\u001b[0m \u001b[39mfor\u001b[39;00m i, name \u001b[39min\u001b[39;00m \u001b[39menumerate\u001b[39m(names):\n",
      "File \u001b[1;32mc:\\ProgramData\\Anaconda3\\lib\\site-packages\\pandas\\core\\indexing.py:961\u001b[0m, in \u001b[0;36m_LocationIndexer.__getitem__\u001b[1;34m(self, key)\u001b[0m\n\u001b[0;32m    959\u001b[0m     \u001b[39mif\u001b[39;00m \u001b[39mself\u001b[39m\u001b[39m.\u001b[39m_is_scalar_access(key):\n\u001b[0;32m    960\u001b[0m         \u001b[39mreturn\u001b[39;00m \u001b[39mself\u001b[39m\u001b[39m.\u001b[39mobj\u001b[39m.\u001b[39m_get_value(\u001b[39m*\u001b[39mkey, takeable\u001b[39m=\u001b[39m\u001b[39mself\u001b[39m\u001b[39m.\u001b[39m_takeable)\n\u001b[1;32m--> 961\u001b[0m     \u001b[39mreturn\u001b[39;00m \u001b[39mself\u001b[39;49m\u001b[39m.\u001b[39;49m_getitem_tuple(key)\n\u001b[0;32m    962\u001b[0m \u001b[39melse\u001b[39;00m:\n\u001b[0;32m    963\u001b[0m     \u001b[39m# we by definition only have the 0th axis\u001b[39;00m\n\u001b[0;32m    964\u001b[0m     axis \u001b[39m=\u001b[39m \u001b[39mself\u001b[39m\u001b[39m.\u001b[39maxis \u001b[39mor\u001b[39;00m \u001b[39m0\u001b[39m\n",
      "File \u001b[1;32mc:\\ProgramData\\Anaconda3\\lib\\site-packages\\pandas\\core\\indexing.py:1149\u001b[0m, in \u001b[0;36m_LocIndexer._getitem_tuple\u001b[1;34m(self, tup)\u001b[0m\n\u001b[0;32m   1146\u001b[0m \u001b[39mif\u001b[39;00m \u001b[39mself\u001b[39m\u001b[39m.\u001b[39m_multi_take_opportunity(tup):\n\u001b[0;32m   1147\u001b[0m     \u001b[39mreturn\u001b[39;00m \u001b[39mself\u001b[39m\u001b[39m.\u001b[39m_multi_take(tup)\n\u001b[1;32m-> 1149\u001b[0m \u001b[39mreturn\u001b[39;00m \u001b[39mself\u001b[39;49m\u001b[39m.\u001b[39;49m_getitem_tuple_same_dim(tup)\n",
      "File \u001b[1;32mc:\\ProgramData\\Anaconda3\\lib\\site-packages\\pandas\\core\\indexing.py:827\u001b[0m, in \u001b[0;36m_LocationIndexer._getitem_tuple_same_dim\u001b[1;34m(self, tup)\u001b[0m\n\u001b[0;32m    824\u001b[0m \u001b[39mif\u001b[39;00m com\u001b[39m.\u001b[39mis_null_slice(key):\n\u001b[0;32m    825\u001b[0m     \u001b[39mcontinue\u001b[39;00m\n\u001b[1;32m--> 827\u001b[0m retval \u001b[39m=\u001b[39m \u001b[39mgetattr\u001b[39;49m(retval, \u001b[39mself\u001b[39;49m\u001b[39m.\u001b[39;49mname)\u001b[39m.\u001b[39;49m_getitem_axis(key, axis\u001b[39m=\u001b[39;49mi)\n\u001b[0;32m    828\u001b[0m \u001b[39m# We should never have retval.ndim < self.ndim, as that should\u001b[39;00m\n\u001b[0;32m    829\u001b[0m \u001b[39m#  be handled by the _getitem_lowerdim call above.\u001b[39;00m\n\u001b[0;32m    830\u001b[0m \u001b[39massert\u001b[39;00m retval\u001b[39m.\u001b[39mndim \u001b[39m==\u001b[39m \u001b[39mself\u001b[39m\u001b[39m.\u001b[39mndim\n",
      "File \u001b[1;32mc:\\ProgramData\\Anaconda3\\lib\\site-packages\\pandas\\core\\indexing.py:1191\u001b[0m, in \u001b[0;36m_LocIndexer._getitem_axis\u001b[1;34m(self, key, axis)\u001b[0m\n\u001b[0;32m   1188\u001b[0m     \u001b[39mif\u001b[39;00m \u001b[39mhasattr\u001b[39m(key, \u001b[39m\"\u001b[39m\u001b[39mndim\u001b[39m\u001b[39m\"\u001b[39m) \u001b[39mand\u001b[39;00m key\u001b[39m.\u001b[39mndim \u001b[39m>\u001b[39m \u001b[39m1\u001b[39m:\n\u001b[0;32m   1189\u001b[0m         \u001b[39mraise\u001b[39;00m \u001b[39mValueError\u001b[39;00m(\u001b[39m\"\u001b[39m\u001b[39mCannot index with multidimensional key\u001b[39m\u001b[39m\"\u001b[39m)\n\u001b[1;32m-> 1191\u001b[0m     \u001b[39mreturn\u001b[39;00m \u001b[39mself\u001b[39;49m\u001b[39m.\u001b[39;49m_getitem_iterable(key, axis\u001b[39m=\u001b[39;49maxis)\n\u001b[0;32m   1193\u001b[0m \u001b[39m# nested tuple slicing\u001b[39;00m\n\u001b[0;32m   1194\u001b[0m \u001b[39mif\u001b[39;00m is_nested_tuple(key, labels):\n",
      "File \u001b[1;32mc:\\ProgramData\\Anaconda3\\lib\\site-packages\\pandas\\core\\indexing.py:1132\u001b[0m, in \u001b[0;36m_LocIndexer._getitem_iterable\u001b[1;34m(self, key, axis)\u001b[0m\n\u001b[0;32m   1129\u001b[0m \u001b[39mself\u001b[39m\u001b[39m.\u001b[39m_validate_key(key, axis)\n\u001b[0;32m   1131\u001b[0m \u001b[39m# A collection of keys\u001b[39;00m\n\u001b[1;32m-> 1132\u001b[0m keyarr, indexer \u001b[39m=\u001b[39m \u001b[39mself\u001b[39;49m\u001b[39m.\u001b[39;49m_get_listlike_indexer(key, axis)\n\u001b[0;32m   1133\u001b[0m \u001b[39mreturn\u001b[39;00m \u001b[39mself\u001b[39m\u001b[39m.\u001b[39mobj\u001b[39m.\u001b[39m_reindex_with_indexers(\n\u001b[0;32m   1134\u001b[0m     {axis: [keyarr, indexer]}, copy\u001b[39m=\u001b[39m\u001b[39mTrue\u001b[39;00m, allow_dups\u001b[39m=\u001b[39m\u001b[39mTrue\u001b[39;00m\n\u001b[0;32m   1135\u001b[0m )\n",
      "File \u001b[1;32mc:\\ProgramData\\Anaconda3\\lib\\site-packages\\pandas\\core\\indexing.py:1327\u001b[0m, in \u001b[0;36m_LocIndexer._get_listlike_indexer\u001b[1;34m(self, key, axis)\u001b[0m\n\u001b[0;32m   1324\u001b[0m ax \u001b[39m=\u001b[39m \u001b[39mself\u001b[39m\u001b[39m.\u001b[39mobj\u001b[39m.\u001b[39m_get_axis(axis)\n\u001b[0;32m   1325\u001b[0m axis_name \u001b[39m=\u001b[39m \u001b[39mself\u001b[39m\u001b[39m.\u001b[39mobj\u001b[39m.\u001b[39m_get_axis_name(axis)\n\u001b[1;32m-> 1327\u001b[0m keyarr, indexer \u001b[39m=\u001b[39m ax\u001b[39m.\u001b[39;49m_get_indexer_strict(key, axis_name)\n\u001b[0;32m   1329\u001b[0m \u001b[39mreturn\u001b[39;00m keyarr, indexer\n",
      "File \u001b[1;32mc:\\ProgramData\\Anaconda3\\lib\\site-packages\\pandas\\core\\indexes\\base.py:5782\u001b[0m, in \u001b[0;36mIndex._get_indexer_strict\u001b[1;34m(self, key, axis_name)\u001b[0m\n\u001b[0;32m   5779\u001b[0m \u001b[39melse\u001b[39;00m:\n\u001b[0;32m   5780\u001b[0m     keyarr, indexer, new_indexer \u001b[39m=\u001b[39m \u001b[39mself\u001b[39m\u001b[39m.\u001b[39m_reindex_non_unique(keyarr)\n\u001b[1;32m-> 5782\u001b[0m \u001b[39mself\u001b[39;49m\u001b[39m.\u001b[39;49m_raise_if_missing(keyarr, indexer, axis_name)\n\u001b[0;32m   5784\u001b[0m keyarr \u001b[39m=\u001b[39m \u001b[39mself\u001b[39m\u001b[39m.\u001b[39mtake(indexer)\n\u001b[0;32m   5785\u001b[0m \u001b[39mif\u001b[39;00m \u001b[39misinstance\u001b[39m(key, Index):\n\u001b[0;32m   5786\u001b[0m     \u001b[39m# GH 42790 - Preserve name from an Index\u001b[39;00m\n",
      "File \u001b[1;32mc:\\ProgramData\\Anaconda3\\lib\\site-packages\\pandas\\core\\indexes\\base.py:5842\u001b[0m, in \u001b[0;36mIndex._raise_if_missing\u001b[1;34m(self, key, indexer, axis_name)\u001b[0m\n\u001b[0;32m   5840\u001b[0m     \u001b[39mif\u001b[39;00m use_interval_msg:\n\u001b[0;32m   5841\u001b[0m         key \u001b[39m=\u001b[39m \u001b[39mlist\u001b[39m(key)\n\u001b[1;32m-> 5842\u001b[0m     \u001b[39mraise\u001b[39;00m \u001b[39mKeyError\u001b[39;00m(\u001b[39mf\u001b[39m\u001b[39m\"\u001b[39m\u001b[39mNone of [\u001b[39m\u001b[39m{\u001b[39;00mkey\u001b[39m}\u001b[39;00m\u001b[39m] are in the [\u001b[39m\u001b[39m{\u001b[39;00maxis_name\u001b[39m}\u001b[39;00m\u001b[39m]\u001b[39m\u001b[39m\"\u001b[39m)\n\u001b[0;32m   5844\u001b[0m not_found \u001b[39m=\u001b[39m \u001b[39mlist\u001b[39m(ensure_index(key)[missing_mask\u001b[39m.\u001b[39mnonzero()[\u001b[39m0\u001b[39m]]\u001b[39m.\u001b[39munique())\n\u001b[0;32m   5845\u001b[0m \u001b[39mraise\u001b[39;00m \u001b[39mKeyError\u001b[39;00m(\u001b[39mf\u001b[39m\u001b[39m\"\u001b[39m\u001b[39m{\u001b[39;00mnot_found\u001b[39m}\u001b[39;00m\u001b[39m not in index\u001b[39m\u001b[39m\"\u001b[39m)\n",
      "\u001b[1;31mKeyError\u001b[0m: \"None of [Index(['녹지만족도', '수변공원', '전체녹지', '경관녹지', '도시자연공원', '문화공원', '근린공원', '완충녹지'], dtype='object')] are in the [columns]\""
     ]
    }
   ],
   "source": [
    "import seaborn as sns\n",
    "from sklearn.model_selection import train_test_split\n",
    "from sklearn.linear_model import LinearRegression\n",
    "\n",
    "names = ['녹지만족도','수변공원','전체녹지','경관녹지','도시자연공원','문화공원','근린공원','완충녹지']\n",
    "diabetes_df_l = df.loc[:, names]\n",
    "\n",
    "plt.figure(figsize=(16, 6))\n",
    "for i, name in enumerate(names):\n",
    "  ax = plt.subplot(1, 8, i+1)\n",
    "  sns.regplot(x=name, y=names[0], data=diabetes_df_l, ax=ax)\n",
    "\n",
    "x_data = df[names[1:]]\n",
    "y_data = df['녹지만족도']\n",
    "X_train, X_test, y_train, y_test = train_test_split(x_data, y_data, test_size=0.2, random_state=42)\n",
    "\n",
    "lr = LinearRegression()\n",
    "lr.fit(X_train, y_train)\n",
    "\n",
    "print(np.round(lr.coef_, 2))\n",
    "print(np.round(lr.intercept_, 2))\n",
    "pred = lr.predict(x_data)\n",
    "\n",
    "\n",
    "plt.figure(figsize=(10, 6))\n",
    "plt.scatter(x_data[names[1]], y_data,c='b',label='test')  \n",
    "plt.scatter(x_data[names[1]], pred,c='r',label='predict')  \n",
    "plt.legend() \n",
    "plt.show()\n",
    "\n",
    "plt.figure(figsize=(10, 6))\n",
    "plt.scatter(x_data[names[2]], y_data,c='b',label='test')  \n",
    "plt.scatter(x_data[names[2]], pred,c='r',label='predict')  \n",
    "plt.legend() \n",
    "plt.show()\n",
    "\n",
    "plt.figure(figsize=(10, 6))\n",
    "plt.scatter(x_data[names[3]], y_data,c='b',label='test')  \n",
    "plt.scatter(x_data[names[3]], pred,c='r',label='predict')  \n",
    "plt.legend() \n",
    "plt.show()\n",
    "\n",
    "plt.figure(figsize=(10, 6))\n",
    "plt.scatter(x_data[names[4]], y_data,c='b',label='test')  \n",
    "plt.scatter(x_data[names[4]], pred, c='r',label='predict')  \n",
    "plt.legend() \n",
    "plt.show()\n",
    "\n",
    "plt.figure(figsize=(10, 6))\n",
    "plt.scatter(x_data[names[5]], y_data,c='b',label='test')  \n",
    "plt.scatter(x_data[names[5]], pred, c='r',label='predict')  \n",
    "plt.legend() \n",
    "plt.show()\n",
    "\n",
    "plt.figure(figsize=(10, 6))\n",
    "plt.scatter(x_data[names[6]], y_data,c='b',label='test')  \n",
    "plt.scatter(x_data[names[6]], pred, c='r',label='predict')  \n",
    "plt.legend() \n",
    "plt.show()\n",
    "\n",
    "plt.figure(figsize=(10, 6))\n",
    "plt.scatter(x_data[names[7]], y_data,c='b',label='test')  \n",
    "plt.scatter(x_data[names[7]], pred, c='r',label='predict')  \n",
    "plt.legend() \n",
    "plt.show()\n",
    "\n",
    "\n",
    "\n",
    "\n",
    "\n",
    "\n"
   ]
  },
  {
   "cell_type": "code",
   "execution_count": null,
   "metadata": {},
   "outputs": [],
   "source": []
  }
 ],
 "metadata": {
  "kernelspec": {
   "display_name": "Python 3",
   "language": "python",
   "name": "python3"
  },
  "language_info": {
   "codemirror_mode": {
    "name": "ipython",
    "version": 3
   },
   "file_extension": ".py",
   "mimetype": "text/x-python",
   "name": "python",
   "nbconvert_exporter": "python",
   "pygments_lexer": "ipython3",
   "version": "3.9.12"
  },
  "orig_nbformat": 4
 },
 "nbformat": 4,
 "nbformat_minor": 2
}
