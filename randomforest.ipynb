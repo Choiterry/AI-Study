{
 "cells": [
  {
   "cell_type": "code",
   "execution_count": null,
   "metadata": {},
   "outputs": [],
   "source": [
    "from sklearn.model_selection import train_test_split\n",
    "from sklearn.ensemble import RandomForestRegressor\n",
    "from sklearn.metrics import mean_squared_error\n",
    "import pandas as pd\n",
    "import numpy as np\n",
    "\n",
    "df = pd.read_excel(\"culture_data.xlsx\")\n",
    "label_name = \"주거활동 만족도\"\n",
    "cols = ['전체녹지', '완충녹지', '경관녹지', '연결녹지', '1인당주상공', '1인당녹지', '전체공원','도시자연공원', '소공원', '어린이공원', '근린공원', '역사공원', '문화공원', '수변공원', '묘지공원',\n",
    "       '체육공원', '조례가 정하는 공원']\n",
    "x = df[cols]\n",
    "y = df[label_name]\n",
    "x_train, x_test, y_train, y_test = train_test_split(x, y, test_size=0.2, random_state=42)\n",
    "\n",
    "# 3. 모델 생성과 학습\n",
    "rf_model = RandomForestRegressor(n_estimators=1000, random_state=42)\n",
    "rf_model.fit(x_train, y_train)\n",
    "\n",
    "# 4. 예측 및 평가\n",
    "y_pred = rf_model.predict(x_test)\n",
    "mse = mean_squared_error(y_test, y_pred)\n",
    "print(\"Mean Squared Error (MSE):\", mse)"
   ]
  }
 ],
 "metadata": {
  "language_info": {
   "name": "python"
  },
  "orig_nbformat": 4
 },
 "nbformat": 4,
 "nbformat_minor": 2
}
